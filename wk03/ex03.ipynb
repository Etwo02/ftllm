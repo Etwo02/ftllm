{
 "cells": [
  {
   "cell_type": "markdown",
   "metadata": {},
   "source": [
    "**Part 1: Dataset Preparation and Fine-Tuning**"
   ]
  },
  {
   "cell_type": "markdown",
   "metadata": {},
   "source": [
    "Step 1: Download the IMDB Dataset "
   ]
  },
  {
   "cell_type": "code",
   "execution_count": 22,
   "metadata": {},
   "outputs": [
    {
     "name": "stdout",
     "output_type": "stream",
     "text": [
      "Dataset Shape: (50000, 2)\n",
      "\n",
      "Dataset Info:\n",
      "<class 'pandas.core.frame.DataFrame'>\n",
      "RangeIndex: 50000 entries, 0 to 49999\n",
      "Data columns (total 2 columns):\n",
      " #   Column     Non-Null Count  Dtype \n",
      "---  ------     --------------  ----- \n",
      " 0   review     50000 non-null  object\n",
      " 1   sentiment  50000 non-null  object\n",
      "dtypes: object(2)\n",
      "memory usage: 781.4+ KB\n",
      "None\n",
      "\n",
      "First few rows of the dataset:\n",
      "                                              review sentiment\n",
      "0  One of the other reviewers has mentioned that ...  positive\n",
      "1  A wonderful little production. <br /><br />The...  positive\n",
      "2  I thought this was a wonderful way to spend ti...  positive\n",
      "3  Basically there's a family where a little boy ...  negative\n",
      "4  Petter Mattei's \"Love in the Time of Money\" is...  positive\n",
      "\n",
      "Missing values in each column:\n",
      "review       0\n",
      "sentiment    0\n",
      "dtype: int64\n",
      "\n",
      "Sentiment distribution:\n",
      "sentiment\n",
      "positive    25000\n",
      "negative    25000\n",
      "Name: count, dtype: int64\n"
     ]
    },
    {
     "data": {
      "image/png": "[encoded data removed]",
      "text/plain": [
       "<Figure size 800x600 with 1 Axes>"
      ]
     },
     "metadata": {},
     "output_type": "display_data"
    },
    {
     "name": "stdout",
     "output_type": "stream",
     "text": [
      "\n",
      "Dataset loaded successfully!\n",
      "\n",
      "Sample positive review:\n",
      "One of the other reviewers has mentioned that after watching just 1 Oz episode you'll be hooked. They are right, as this is exactly what happened with me.<br /><br />The first thing that struck me abo...\n",
      "\n",
      "Sample negative review:\n",
      "Basically there's a family where a little boy (Jake) thinks there's a zombie in his closet & his parents are fighting all the time.<br /><br />This movie is slower than a soap opera... and suddenly, J...\n"
     ]
    }
   ],
   "source": [
    "# Import necessary libraries\n",
    "import pandas as pd\n",
    "import numpy as np\n",
    "from sklearn.model_selection import train_test_split\n",
    "import matplotlib.pyplot as plt\n",
    "import seaborn as sns\n",
    "\n",
    "# Set random seed for reproducibility\n",
    "np.random.seed(42)\n",
    "\n",
    "def load_imdb_dataset(filepath='C:/Users/Kone/Downloads/archive/IMDB Dataset.csv'):\n",
    "    \"\"\"Load the IMDB dataset and perform initial verification\"\"\"\n",
    "    df = pd.read_csv(filepath)\n",
    "    \n",
    "    # Display basic information about the dataset\n",
    "    print(\"Dataset Shape:\", df.shape)\n",
    "    print(\"\\nDataset Info:\")\n",
    "    print(df.info())\n",
    "    print(\"\\nFirst few rows of the dataset:\")\n",
    "    print(df.head())\n",
    "    print(\"\\nMissing values in each column:\")\n",
    "    print(df.isnull().sum())\n",
    "    print(\"\\nSentiment distribution:\")\n",
    "    print(df['sentiment'].value_counts())\n",
    "    \n",
    "    # Create a distribution plot\n",
    "    plt.figure(figsize=(8, 6))\n",
    "    sns.countplot(x='sentiment', data=df)\n",
    "    plt.title('Distribution of Sentiments in IMDB Dataset')\n",
    "    plt.show()\n",
    "    \n",
    "    return df\n",
    "\n",
    "# Load the dataset\n",
    "df = load_imdb_dataset()\n",
    "print(\"\\nDataset loaded successfully!\")\n",
    "\n",
    "# Display sample reviews\n",
    "print(\"\\nSample positive review:\")\n",
    "print(df[df['sentiment'] == 'positive']['review'].iloc[0][:200] + \"...\")\n",
    "print(\"\\nSample negative review:\")\n",
    "print(df[df['sentiment'] == 'negative']['review'].iloc[0][:200] + \"...\")"
   ]
  },
  {
   "cell_type": "markdown",
   "metadata": {},
   "source": [
    "Step 2: Data Preprocessing"
   ]
  },
  {
   "cell_type": "code",
   "execution_count": 23,
   "metadata": {},
   "outputs": [
    {
     "name": "stdout",
     "output_type": "stream",
     "text": [
      "\n",
      "Dataset splits:\n",
      "Training set: 40000 samples\n",
      "Validation set: 5000 samples\n",
      "Test set: 5000 samples\n",
      "\n",
      "Preprocessing completed successfully!\n"
     ]
    },
    {
     "name": "stderr",
     "output_type": "stream",
     "text": [
      "C:\\Users\\Kone\\AppData\\Local\\Temp\\ipykernel_17092\\3489028217.py:8: SettingWithCopyWarning: \n",
      "A value is trying to be set on a copy of a slice from a DataFrame.\n",
      "Try using .loc[row_indexer,col_indexer] = value instead\n",
      "\n",
      "See the caveats in the documentation: https://pandas.pydata.org/pandas-docs/stable/user_guide/indexing.html#returning-a-view-versus-a-copy\n",
      "  df['review'] = df['review'].apply(lambda x: x.strip().lower())\n"
     ]
    }
   ],
   "source": [
    "def preprocess_data(df):\n",
    "    \"\"\"Preprocess the IMDB dataset\"\"\"\n",
    "    # Encode sentiment labels (positive -> 1, negative -> 0)\n",
    "    df['label'] = (df['sentiment'] == 'positive').astype(int)\n",
    "    df = df[['review', 'label']]\n",
    "    \n",
    "    # Basic text cleaning\n",
    "    df['review'] = df['review'].apply(lambda x: x.strip().lower())\n",
    "    df = df[df['review'].str.len() > 0].reset_index(drop=True)\n",
    "    \n",
    "    # Split into training (80%), validation (10%), and test (10%) sets\n",
    "    train_df, temp_df = train_test_split(\n",
    "        df, test_size=0.2, random_state=42, stratify=df['label']\n",
    "    )\n",
    "    \n",
    "    val_df, test_df = train_test_split(\n",
    "        temp_df, test_size=0.5, random_state=42, stratify=temp_df['label']\n",
    "    )\n",
    "    \n",
    "    # Reset indices\n",
    "    train_df = train_df.reset_index(drop=True)\n",
    "    val_df = val_df.reset_index(drop=True)\n",
    "    test_df = test_df.reset_index(drop=True)\n",
    "    \n",
    "    print(\"\\nDataset splits:\")\n",
    "    print(f\"Training set: {len(train_df)} samples\")\n",
    "    print(f\"Validation set: {len(val_df)} samples\")\n",
    "    print(f\"Test set: {len(test_df)} samples\")\n",
    "    \n",
    "    return train_df, val_df, test_df\n",
    "\n",
    "# Apply preprocessing\n",
    "train_df, val_df, test_df = preprocess_data(df)\n",
    "print(\"\\nPreprocessing completed successfully!\")"
   ]
  },
  {
   "cell_type": "markdown",
   "metadata": {},
   "source": [
    "Step 3: Model Selection and Tokenization"
   ]
  },
  {
   "cell_type": "code",
   "execution_count": 24,
   "metadata": {},
   "outputs": [
    {
     "name": "stdout",
     "output_type": "stream",
     "text": [
      "Loading model and tokenizer: distilbert-base-uncased\n"
     ]
    },
    {
     "name": "stderr",
     "output_type": "stream",
     "text": [
      "Some weights of DistilBertForSequenceClassification were not initialized from the model checkpoint at distilbert-base-uncased and are newly initialized: ['classifier.bias', 'classifier.weight', 'pre_classifier.bias', 'pre_classifier.weight']\n",
      "You should probably TRAIN this model on a down-stream task to be able to use it for predictions and inference.\n"
     ]
    },
    {
     "name": "stdout",
     "output_type": "stream",
     "text": [
      "Model and tokenizer loaded successfully!\n",
      "\n",
      "Datasets created successfully!\n",
      "Training samples: 40000\n",
      "Validation samples: 5000\n",
      "Test samples: 5000\n"
     ]
    }
   ],
   "source": [
    "from transformers import AutoTokenizer, AutoModelForSequenceClassification\n",
    "from torch.utils.data import Dataset\n",
    "import torch\n",
    "from tqdm.auto import tqdm\n",
    "\n",
    "# Constants\n",
    "MODEL_NAME = \"distilbert-base-uncased\"\n",
    "MAX_LENGTH = 256\n",
    "BATCH_SIZE = 32\n",
    "\n",
    "class IMDBDataset(Dataset):\n",
    "    \"\"\"Custom Dataset for IMDB reviews\"\"\"\n",
    "    def __init__(self, reviews, labels, tokenizer, max_length):\n",
    "        self.reviews = reviews\n",
    "        self.labels = labels\n",
    "        self.tokenizer = tokenizer\n",
    "        self.max_length = max_length\n",
    "    \n",
    "    def __len__(self):\n",
    "        return len(self.reviews)\n",
    "    \n",
    "    def __getitem__(self, idx):\n",
    "        review = str(self.reviews[idx])\n",
    "        label = self.labels[idx]\n",
    "        \n",
    "        encoding = self.tokenizer(\n",
    "            review,\n",
    "            add_special_tokens=True,\n",
    "            max_length=self.max_length,\n",
    "            truncation=True,            # As per requirements\n",
    "            padding='max_length',       # As per requirements\n",
    "            return_attention_mask=True,\n",
    "            return_tensors='pt'\n",
    "        )\n",
    "        \n",
    "        return {\n",
    "            'input_ids': encoding['input_ids'].flatten(),\n",
    "            'attention_mask': encoding['attention_mask'].flatten(),\n",
    "            'labels': torch.tensor(label, dtype=torch.long)\n",
    "        }\n",
    "\n",
    "# Initialize model and tokenizer\n",
    "print(f\"Loading model and tokenizer: {MODEL_NAME}\")\n",
    "tokenizer = AutoTokenizer.from_pretrained(MODEL_NAME)\n",
    "model = AutoModelForSequenceClassification.from_pretrained(\n",
    "    MODEL_NAME,\n",
    "    num_labels=2,\n",
    "    return_dict=True\n",
    ")\n",
    "print(\"Model and tokenizer loaded successfully!\")\n",
    "\n",
    "# Create datasets\n",
    "train_dataset = IMDBDataset(train_df['review'].values, train_df['label'].values, tokenizer, MAX_LENGTH)\n",
    "val_dataset = IMDBDataset(val_df['review'].values, val_df['label'].values, tokenizer, MAX_LENGTH)\n",
    "test_dataset = IMDBDataset(test_df['review'].values, test_df['label'].values, tokenizer, MAX_LENGTH)\n",
    "\n",
    "print(f\"\\nDatasets created successfully!\")\n",
    "print(f\"Training samples: {len(train_dataset)}\")\n",
    "print(f\"Validation samples: {len(val_dataset)}\")\n",
    "print(f\"Test samples: {len(test_dataset)}\")"
   ]
  },
  {
   "cell_type": "markdown",
   "metadata": {},
   "source": [
    "Step 4: Fine-Tune the Model "
   ]
  },
  {
   "cell_type": "code",
   "execution_count": 25,
   "metadata": {},
   "outputs": [
    {
     "name": "stderr",
     "output_type": "stream",
     "text": [
      "c:\\Users\\Kone\\ftllm\\yes\\Lib\\site-packages\\transformers\\training_args.py:1575: FutureWarning: `evaluation_strategy` is deprecated and will be removed in version 4.46 of 🤗 Transformers. Use `eval_strategy` instead\n",
      "  warnings.warn(\n",
      "C:\\Users\\Kone\\AppData\\Local\\Temp\\ipykernel_17092\\1383693292.py:42: FutureWarning: `tokenizer` is deprecated and will be removed in version 5.0.0 for `Trainer.__init__`. Use `processing_class` instead.\n",
      "  trainer = Trainer(\n"
     ]
    },
    {
     "name": "stdout",
     "output_type": "stream",
     "text": [
      "Starting model training...\n"
     ]
    },
    {
     "data": {
      "text/html": [
       "\n",
       "    <div>\n",
       "      \n",
       "      <progress value='2500' max='2500' style='width:300px; height:20px; vertical-align: middle;'></progress>\n",
       "      [2500/2500 05:58, Epoch 2/2]\n",
       "    </div>\n",
       "    <table border=\"1\" class=\"dataframe\">\n",
       "  <thead>\n",
       " <tr style=\"text-align: left;\">\n",
       "      <th>Epoch</th>\n",
       "      <th>Training Loss</th>\n",
       "      <th>Validation Loss</th>\n",
       "      <th>Accuracy</th>\n",
       "      <th>Precision</th>\n",
       "      <th>Recall</th>\n",
       "      <th>F1</th>\n",
       "    </tr>\n",
       "  </thead>\n",
       "  <tbody>\n",
       "    <tr>\n",
       "      <td>1</td>\n",
       "      <td>0.234600</td>\n",
       "      <td>0.217222</td>\n",
       "      <td>0.914200</td>\n",
       "      <td>0.902449</td>\n",
       "      <td>0.928800</td>\n",
       "      <td>0.915435</td>\n",
       "    </tr>\n",
       "    <tr>\n",
       "      <td>2</td>\n",
       "      <td>0.133800</td>\n",
       "      <td>0.212472</td>\n",
       "      <td>0.923200</td>\n",
       "      <td>0.919841</td>\n",
       "      <td>0.927200</td>\n",
       "      <td>0.923506</td>\n",
       "    </tr>\n",
       "  </tbody>\n",
       "</table><p>"
      ],
      "text/plain": [
       "<IPython.core.display.HTML object>"
      ]
     },
     "metadata": {},
     "output_type": "display_data"
    },
    {
     "data": {
      "text/html": [
       "\n",
       "    <div>\n",
       "      \n",
       "      <progress value='157' max='157' style='width:300px; height:20px; vertical-align: middle;'></progress>\n",
       "      [157/157 00:08]\n",
       "    </div>\n",
       "    "
      ],
      "text/plain": [
       "<IPython.core.display.HTML object>"
      ]
     },
     "metadata": {},
     "output_type": "display_data"
    },
    {
     "name": "stdout",
     "output_type": "stream",
     "text": [
      "\n",
      "Final Evaluation Metrics:\n",
      "Accuracy: 0.9232\n",
      "Precision: 0.9198\n",
      "Recall: 0.9272\n",
      "F1 Score: 0.9235\n",
      "\n",
      "Model and metrics saved to ./results\n"
     ]
    }
   ],
   "source": [
    "from transformers import TrainingArguments, Trainer\n",
    "import numpy as np\n",
    "from sklearn.metrics import accuracy_score, precision_recall_fscore_support\n",
    "import os\n",
    "\n",
    "def compute_metrics(eval_pred):\n",
    "    \"\"\"Compute metrics for evaluation\"\"\"\n",
    "    predictions, labels = eval_pred\n",
    "    predictions = np.argmax(predictions, axis=1)\n",
    "    \n",
    "    accuracy = accuracy_score(labels, predictions)\n",
    "    precision, recall, f1, _ = precision_recall_fscore_support(\n",
    "        labels, predictions, average='binary'\n",
    "    )\n",
    "    \n",
    "    return {\n",
    "        'accuracy': accuracy,\n",
    "        'precision': precision,\n",
    "        'recall': recall,\n",
    "        'f1': f1\n",
    "    }\n",
    "\n",
    "# Define training arguments\n",
    "training_args = TrainingArguments(\n",
    "    output_dir=\"./results\",\n",
    "    num_train_epochs=2,                      # As per requirements\n",
    "    per_device_train_batch_size=32,          # As per requirements (16 or 32)\n",
    "    per_device_eval_batch_size=32,\n",
    "    warmup_steps=500,\n",
    "    weight_decay=0.01,\n",
    "    logging_dir='./logs',\n",
    "    logging_steps=100,\n",
    "    evaluation_strategy=\"epoch\",             # Evaluate at end of each epoch\n",
    "    save_strategy=\"epoch\",\n",
    "    learning_rate=5e-5,                      # As per requirements\n",
    "    load_best_model_at_end=True,\n",
    "    metric_for_best_model=\"f1\",\n",
    "    report_to=\"none\"                         # Disable wandb reporting\n",
    ")\n",
    "\n",
    "# Initialize trainer\n",
    "trainer = Trainer(\n",
    "    model=model,\n",
    "    args=training_args,\n",
    "    train_dataset=train_dataset,\n",
    "    eval_dataset=val_dataset,\n",
    "    compute_metrics=compute_metrics,\n",
    "    tokenizer=tokenizer\n",
    ")\n",
    "\n",
    "# Train the model\n",
    "print(\"Starting model training...\")\n",
    "trainer.train()\n",
    "\n",
    "# Evaluate and print final metrics\n",
    "final_metrics = trainer.evaluate()\n",
    "print(\"\\nFinal Evaluation Metrics:\")\n",
    "print(f\"Accuracy: {final_metrics['eval_accuracy']:.4f}\")\n",
    "print(f\"Precision: {final_metrics['eval_precision']:.4f}\")\n",
    "print(f\"Recall: {final_metrics['eval_recall']:.4f}\")\n",
    "print(f\"F1 Score: {final_metrics['eval_f1']:.4f}\")\n",
    "\n",
    "# Save final model and metrics\n",
    "trainer.save_model(\"./results\")\n",
    "metrics_path = os.path.join(\"./results\", \"training_metrics.txt\")\n",
    "with open(metrics_path, \"w\") as f:\n",
    "    for key, value in final_metrics.items():\n",
    "        f.write(f\"{key}: {value}\\n\")\n",
    "print(f\"\\nModel and metrics saved to ./results\")"
   ]
  },
  {
   "cell_type": "markdown",
   "metadata": {},
   "source": [
    "Step 5: Save and Upload the Model to Hugging Face"
   ]
  },
  {
   "cell_type": "code",
   "execution_count": 26,
   "metadata": {},
   "outputs": [
    {
     "name": "stdout",
     "output_type": "stream",
     "text": [
      "Saving model and tokenizer locally...\n",
      "Model and tokenizer saved to ./final_model\n",
      "\n",
      "Please login to Hugging Face (a browser window will open)...\n"
     ]
    },
    {
     "data": {
      "application/vnd.jupyter.widget-view+json": {
       "model_id": "ffcfcc12aec84d7883f035d79c6dac02",
       "version_major": 2,
       "version_minor": 0
      },
      "text/plain": [
       "VBox(children=(HTML(value='<center> <img\\nsrc=https://huggingface.co/front/assets/huggingface_logo-noborder.sv…"
      ]
     },
     "metadata": {},
     "output_type": "display_data"
    },
    {
     "name": "stdout",
     "output_type": "stream",
     "text": [
      "\n",
      "Uploading model to Hugging Face Hub...\n"
     ]
    },
    {
     "data": {
      "application/vnd.jupyter.widget-view+json": {
       "model_id": "ba6b4d6ea25e409d9fa67df4ecab41ca",
       "version_major": 2,
       "version_minor": 0
      },
      "text/plain": [
       "model.safetensors:   0%|          | 0.00/268M [00:00<?, ?B/s]"
      ]
     },
     "metadata": {},
     "output_type": "display_data"
    },
    {
     "data": {
      "application/vnd.jupyter.widget-view+json": {
       "model_id": "ecdce86aa9a2496fafab845acaacc1b5",
       "version_major": 2,
       "version_minor": 0
      },
      "text/plain": [
       "README.md:   0%|          | 0.00/5.17k [00:00<?, ?B/s]"
      ]
     },
     "metadata": {},
     "output_type": "display_data"
    },
    {
     "name": "stderr",
     "output_type": "stream",
     "text": [
      "c:\\Users\\Kone\\ftllm\\yes\\Lib\\site-packages\\huggingface_hub\\file_download.py:140: UserWarning: `huggingface_hub` cache-system uses symlinks by default to efficiently store duplicated files but your machine does not support them in C:\\Users\\Kone\\.cache\\huggingface\\hub\\models--Etwo02--imdb-sentiment-classifier. Caching files will still work but in a degraded version that might require more space on your disk. This warning can be disabled by setting the `HF_HUB_DISABLE_SYMLINKS_WARNING` environment variable. For more details, see https://huggingface.co/docs/huggingface_hub/how-to-cache#limitations.\n",
      "To support symlinks on Windows, you either need to activate Developer Mode or to run Python as an administrator. In order to activate developer mode, see this article: https://docs.microsoft.com/en-us/windows/apps/get-started/enable-your-device-for-development\n",
      "  warnings.warn(message)\n",
      "No files have been modified since last commit. Skipping to prevent empty commit.\n"
     ]
    },
    {
     "name": "stdout",
     "output_type": "stream",
     "text": [
      "Model successfully uploaded to Hugging Face Hub!\n",
      "You can find the model at: https://huggingface.co/Etwo02/imdb-sentiment-classifier\n"
     ]
    }
   ],
   "source": [
    "from huggingface_hub import notebook_login\n",
    "import os\n",
    "\n",
    "# 1. Save model and tokenizer locally\n",
    "output_dir = \"./final_model\"\n",
    "if not os.path.exists(output_dir):\n",
    "    os.makedirs(output_dir)\n",
    "\n",
    "print(\"Saving model and tokenizer locally...\")\n",
    "model.save_pretrained(output_dir)\n",
    "tokenizer.save_pretrained(output_dir)\n",
    "print(f\"Model and tokenizer saved to {output_dir}\")\n",
    "\n",
    "# 2. Login to Hugging Face\n",
    "print(\"\\nPlease login to Hugging Face (a browser window will open)...\")\n",
    "notebook_login()\n",
    "\n",
    "# 3. Push model to hub\n",
    "repo_name = \"Etwo02/imdb-sentiment-classifier\"  # You can change this name\n",
    "try:\n",
    "    print(f\"\\nUploading model to Hugging Face Hub...\")\n",
    "    model.push_to_hub(repo_name)\n",
    "    tokenizer.push_to_hub(repo_name)\n",
    "    print(f\"Model successfully uploaded to Hugging Face Hub!\")\n",
    "    print(f\"You can find the model at: https://huggingface.co/{repo_name}\")\n",
    "    \n",
    "except Exception as e:\n",
    "    print(f\"Error uploading model: {str(e)}\")\n",
    "    print(\"Please make sure you're logged in and have the correct permissions\")"
   ]
  },
  {
   "cell_type": "markdown",
   "metadata": {},
   "source": [
    "4. Link to model https://huggingface.co/Etwo02/imdb-sentiment-classifier"
   ]
  },
  {
   "cell_type": "markdown",
   "metadata": {},
   "source": [
    "**Part 2: API Development and Testing**"
   ]
  },
  {
   "cell_type": "markdown",
   "metadata": {},
   "source": [
    "Step 6: Set Up the Backend API "
   ]
  },
  {
   "cell_type": "code",
   "execution_count": null,
   "metadata": {},
   "outputs": [
    {
     "name": "stderr",
     "output_type": "stream",
     "text": [
      "INFO:     Started server process [17092]\n",
      "INFO:     Waiting for application startup.\n",
      "INFO:     Application startup complete.\n",
      "INFO:     Uvicorn running on http://0.0.0.0:8000 (Press CTRL+C to quit)\n"
     ]
    },
    {
     "name": "stdout",
     "output_type": "stream",
     "text": [
      "INFO:     127.0.0.1:53116 - \"OPTIONS /analyze/ HTTP/1.1\" 200 OK\n",
      "INFO:     127.0.0.1:53116 - \"POST /analyze/ HTTP/1.1\" 200 OK\n",
      "INFO:     127.0.0.1:53218 - \"POST /analyze/ HTTP/1.1\" 200 OK\n",
      "INFO:     127.0.0.1:53220 - \"POST /analyze/ HTTP/1.1\" 200 OK\n",
      "INFO:     127.0.0.1:53220 - \"POST /analyze/ HTTP/1.1\" 200 OK\n",
      "INFO:     127.0.0.1:53220 - \"POST /analyze/ HTTP/1.1\" 200 OK\n",
      "INFO:     127.0.0.1:53220 - \"POST /analyze/ HTTP/1.1\" 200 OK\n",
      "INFO:     127.0.0.1:53258 - \"POST /analyze/ HTTP/1.1\" 200 OK\n",
      "INFO:     127.0.0.1:53258 - \"POST /analyze/ HTTP/1.1\" 200 OK\n",
      "INFO:     127.0.0.1:53258 - \"POST /analyze/ HTTP/1.1\" 200 OK\n",
      "INFO:     127.0.0.1:53258 - \"POST /analyze/ HTTP/1.1\" 200 OK\n",
      "INFO:     127.0.0.1:53258 - \"POST /analyze/ HTTP/1.1\" 200 OK\n",
      "INFO:     127.0.0.1:53260 - \"POST /analyze/ HTTP/1.1\" 200 OK\n",
      "INFO:     127.0.0.1:53274 - \"POST /analyze/ HTTP/1.1\" 200 OK\n",
      "INFO:     127.0.0.1:53274 - \"POST /analyze/ HTTP/1.1\" 200 OK\n",
      "INFO:     127.0.0.1:53274 - \"POST /analyze/ HTTP/1.1\" 200 OK\n",
      "INFO:     127.0.0.1:53274 - \"POST /analyze/ HTTP/1.1\" 200 OK\n",
      "INFO:     127.0.0.1:53274 - \"POST /analyze/ HTTP/1.1\" 200 OK\n",
      "INFO:     127.0.0.1:53274 - \"POST /analyze/ HTTP/1.1\" 200 OK\n",
      "INFO:     127.0.0.1:53274 - \"POST /analyze/ HTTP/1.1\" 200 OK\n",
      "INFO:     127.0.0.1:53366 - \"POST /analyze/ HTTP/1.1\" 200 OK\n",
      "INFO:     127.0.0.1:53366 - \"POST /analyze/ HTTP/1.1\" 200 OK\n",
      "INFO:     127.0.0.1:53368 - \"POST /analyze/ HTTP/1.1\" 200 OK\n",
      "INFO:     127.0.0.1:53368 - \"POST /analyze/ HTTP/1.1\" 200 OK\n",
      "INFO:     127.0.0.1:53403 - \"POST /analyze/ HTTP/1.1\" 200 OK\n",
      "INFO:     127.0.0.1:53403 - \"POST /analyze/ HTTP/1.1\" 200 OK\n",
      "INFO:     127.0.0.1:53405 - \"POST /analyze/ HTTP/1.1\" 200 OK\n",
      "INFO:     127.0.0.1:53405 - \"POST /analyze/ HTTP/1.1\" 200 OK\n",
      "INFO:     127.0.0.1:53405 - \"POST /analyze/ HTTP/1.1\" 200 OK\n",
      "INFO:     127.0.0.1:53439 - \"POST /analyze/ HTTP/1.1\" 200 OK\n",
      "INFO:     127.0.0.1:53440 - \"POST /analyze/ HTTP/1.1\" 200 OK\n",
      "INFO:     127.0.0.1:53460 - \"POST /analyze/ HTTP/1.1\" 200 OK\n",
      "INFO:     127.0.0.1:53460 - \"POST /analyze/ HTTP/1.1\" 200 OK\n",
      "INFO:     127.0.0.1:53504 - \"POST /analyze/ HTTP/1.1\" 200 OK\n",
      "INFO:     127.0.0.1:53571 - \"POST /analyze/ HTTP/1.1\" 200 OK\n",
      "INFO:     127.0.0.1:53571 - \"POST /analyze/ HTTP/1.1\" 200 OK\n",
      "INFO:     127.0.0.1:53571 - \"POST /analyze/ HTTP/1.1\" 200 OK\n",
      "INFO:     127.0.0.1:53641 - \"POST /analyze/ HTTP/1.1\" 200 OK\n",
      "INFO:     127.0.0.1:53641 - \"POST /analyze/ HTTP/1.1\" 200 OK\n",
      "INFO:     127.0.0.1:53641 - \"POST /analyze/ HTTP/1.1\" 200 OK\n",
      "INFO:     127.0.0.1:53643 - \"POST /analyze/ HTTP/1.1\" 200 OK\n",
      "INFO:     127.0.0.1:53643 - \"POST /analyze/ HTTP/1.1\" 200 OK\n",
      "INFO:     127.0.0.1:53664 - \"POST /analyze/ HTTP/1.1\" 200 OK\n",
      "INFO:     127.0.0.1:53664 - \"OPTIONS /analyze/ HTTP/1.1\" 200 OK\n",
      "INFO:     127.0.0.1:53664 - \"POST /analyze/ HTTP/1.1\" 200 OK\n",
      "INFO:     127.0.0.1:53666 - \"POST /analyze/ HTTP/1.1\" 200 OK\n",
      "INFO:     127.0.0.1:53676 - \"POST /analyze/ HTTP/1.1\" 200 OK\n",
      "INFO:     127.0.0.1:53678 - \"POST /analyze/ HTTP/1.1\" 200 OK\n",
      "INFO:     127.0.0.1:53786 - \"POST /analyze/ HTTP/1.1\" 200 OK\n",
      "INFO:     127.0.0.1:53832 - \"POST /analyze/ HTTP/1.1\" 200 OK\n",
      "INFO:     127.0.0.1:53838 - \"POST /analyze/ HTTP/1.1\" 200 OK\n",
      "INFO:     127.0.0.1:53851 - \"POST /analyze/ HTTP/1.1\" 200 OK\n",
      "INFO:     127.0.0.1:53855 - \"POST /analyze/ HTTP/1.1\" 200 OK\n",
      "INFO:     127.0.0.1:53876 - \"POST /analyze/ HTTP/1.1\" 200 OK\n",
      "INFO:     127.0.0.1:53887 - \"POST /analyze/ HTTP/1.1\" 200 OK\n",
      "INFO:     127.0.0.1:53892 - \"POST /analyze/ HTTP/1.1\" 200 OK\n",
      "INFO:     127.0.0.1:53916 - \"POST /analyze/ HTTP/1.1\" 200 OK\n",
      "INFO:     127.0.0.1:53927 - \"POST /analyze/ HTTP/1.1\" 200 OK\n",
      "INFO:     127.0.0.1:53933 - \"POST /analyze/ HTTP/1.1\" 200 OK\n",
      "INFO:     127.0.0.1:53938 - \"POST /analyze/ HTTP/1.1\" 200 OK\n",
      "INFO:     127.0.0.1:53940 - \"POST /analyze/ HTTP/1.1\" 200 OK\n",
      "INFO:     127.0.0.1:53940 - \"POST /analyze/ HTTP/1.1\" 200 OK\n",
      "INFO:     127.0.0.1:53940 - \"POST /analyze/ HTTP/1.1\" 200 OK\n",
      "INFO:     127.0.0.1:53957 - \"POST /analyze/ HTTP/1.1\" 200 OK\n",
      "INFO:     127.0.0.1:54002 - \"POST /analyze/ HTTP/1.1\" 200 OK\n",
      "INFO:     127.0.0.1:54008 - \"POST /analyze/ HTTP/1.1\" 200 OK\n",
      "INFO:     127.0.0.1:54014 - \"POST /analyze/ HTTP/1.1\" 200 OK\n",
      "INFO:     127.0.0.1:54020 - \"POST /analyze/ HTTP/1.1\" 200 OK\n",
      "INFO:     127.0.0.1:54026 - \"OPTIONS /analyze/ HTTP/1.1\" 200 OK\n",
      "INFO:     127.0.0.1:54026 - \"POST /analyze/ HTTP/1.1\" 200 OK\n",
      "INFO:     127.0.0.1:54026 - \"POST /analyze/ HTTP/1.1\" 200 OK\n",
      "INFO:     127.0.0.1:54027 - \"POST /analyze/ HTTP/1.1\" 200 OK\n",
      "INFO:     127.0.0.1:54039 - \"POST /analyze/ HTTP/1.1\" 200 OK\n",
      "INFO:     127.0.0.1:54039 - \"POST /analyze/ HTTP/1.1\" 200 OK\n",
      "INFO:     127.0.0.1:54104 - \"POST /analyze/ HTTP/1.1\" 200 OK\n",
      "INFO:     127.0.0.1:54109 - \"POST /analyze/ HTTP/1.1\" 200 OK\n",
      "INFO:     127.0.0.1:54113 - \"POST /analyze/ HTTP/1.1\" 200 OK\n",
      "INFO:     127.0.0.1:54117 - \"POST /analyze/ HTTP/1.1\" 200 OK\n",
      "INFO:     127.0.0.1:54124 - \"POST /analyze/ HTTP/1.1\" 200 OK\n",
      "INFO:     127.0.0.1:54125 - \"POST /analyze/ HTTP/1.1\" 200 OK\n",
      "INFO:     127.0.0.1:54125 - \"POST /analyze/ HTTP/1.1\" 200 OK\n",
      "INFO:     127.0.0.1:54138 - \"POST /analyze/ HTTP/1.1\" 200 OK\n",
      "INFO:     127.0.0.1:54318 - \"POST /analyze/ HTTP/1.1\" 200 OK\n"
     ]
    }
   ],
   "source": [
    "# main.py\n",
    "# main.py\n",
    "from fastapi import FastAPI, HTTPException\n",
    "from pydantic import BaseModel\n",
    "from transformers import AutoModelForSequenceClassification, AutoTokenizer\n",
    "import torch\n",
    "import torch.nn.functional as F\n",
    "from typing import Literal\n",
    "import os\n",
    "from dotenv import load_dotenv\n",
    "import httpx\n",
    "import json\n",
    "import nest_asyncio\n",
    "import uvicorn\n",
    "from fastapi.middleware.cors import CORSMiddleware\n",
    "\n",
    "# Apply nest_asyncio to allow running async code in Jupyter\n",
    "nest_asyncio.apply()\n",
    "\n",
    "# Load environment variables\n",
    "load_dotenv()\n",
    "\n",
    "app = FastAPI(\n",
    "    title=\"Sentiment Analysis API\",\n",
    "    description=\"API for analyzing sentiment using custom DistilBERT and Llama 3 models\",\n",
    "    version=\"1.0.0\"\n",
    ")\n",
    "\n",
    "app.add_middleware(\n",
    "    CORSMiddleware,\n",
    "    allow_origins=[\"*\"],\n",
    "    allow_credentials=True,\n",
    "    allow_methods=[\"*\"],\n",
    "    allow_headers=[\"*\"],\n",
    ")\n",
    "\n",
    "\n",
    "# Model paths and configs\n",
    "MODEL_PATH = \"./final_model\"  # Update with your model path\n",
    "TOKENIZER_PATH = \"./tokenizer_config\"  # Update with your tokenizer path\n",
    "MAX_LENGTH = 256\n",
    "\n",
    "# Initialize custom model and tokenizer\n",
    "custom_tokenizer = AutoTokenizer.from_pretrained(TOKENIZER_PATH)\n",
    "custom_model = AutoModelForSequenceClassification.from_pretrained(MODEL_PATH)\n",
    "custom_model.eval()\n",
    "\n",
    "# Groq API configuration\n",
    "GROQ_API_KEY = os.getenv(\"GROQ_API_KEY\")\n",
    "GROQ_API_URL = \"https://api.groq.com/openai/v1/chat/completions\" \n",
    "\n",
    "class SentimentRequest(BaseModel):\n",
    "    text: str\n",
    "    model: Literal[\"custom\", \"llama\"]\n",
    "\n",
    "class SentimentResponse(BaseModel):\n",
    "    sentiment: str\n",
    "    confidence: float\n",
    "\n",
    "def analyze_with_custom_model(text: str) -> tuple[str, float]:\n",
    "    \"\"\"\n",
    "    Analyze sentiment using the custom fine-tuned model\n",
    "    \"\"\"\n",
    "    try:\n",
    "        # Tokenize input\n",
    "        inputs = custom_tokenizer(\n",
    "            text,\n",
    "            truncation=True,\n",
    "            max_length=MAX_LENGTH,\n",
    "            padding=True,\n",
    "            return_tensors=\"pt\"\n",
    "        )\n",
    "\n",
    "        # Get model prediction\n",
    "        with torch.no_grad():\n",
    "            outputs = custom_model(**inputs)\n",
    "            probabilities = F.softmax(outputs.logits, dim=1)\n",
    "            prediction = torch.argmax(probabilities, dim=1)\n",
    "            confidence = torch.max(probabilities).item()\n",
    "\n",
    "        # Convert prediction to sentiment\n",
    "        sentiment = \"positive\" if prediction.item() == 1 else \"negative\"\n",
    "        \n",
    "        return sentiment, confidence\n",
    "\n",
    "    except Exception as e:\n",
    "        raise HTTPException(status_code=500, detail=f\"Custom model error: {str(e)}\")\n",
    "\n",
    "async def analyze_with_llama(text: str) -> tuple[str, float]:\n",
    "    \"\"\"\n",
    "    Analyze sentiment using Llama 3 via Groq API\n",
    "    \"\"\"\n",
    "    try:\n",
    "        headers = {\n",
    "            \"Authorization\": f\"Bearer {GROQ_API_KEY}\",\n",
    "            \"Content-Type\": \"application/json\"\n",
    "        }\n",
    "        \n",
    "        prompt = f\"\"\"Analyze the sentiment of the following text and respond with a JSON object containing two fields:\n",
    "        1. \"sentiment\": either \"positive\" or \"negative\"\n",
    "        2. \"confidence\": a float between 0 and 1 indicating your confidence\n",
    "\n",
    "        Text: \"{text}\"\n",
    "\n",
    "        Respond only with the JSON object.\"\"\"\n",
    "\n",
    "        payload = {\n",
    "            \"model\": \"llama3-70b-8192\",  # Updated model name\n",
    "            \"messages\": [\n",
    "                {\"role\": \"system\", \"content\": \"You are a sentiment analysis expert.\"},\n",
    "                {\"role\": \"user\", \"content\": prompt}\n",
    "            ],\n",
    "            \"temperature\": 0.1,\n",
    "            \"max_tokens\": 100\n",
    "        }\n",
    "\n",
    "        async with httpx.AsyncClient() as client:\n",
    "            response = await client.post(GROQ_API_URL, headers=headers, json=payload)\n",
    "            response.raise_for_status()\n",
    "            \n",
    "            # Parse the response\n",
    "            result = response.json()\n",
    "            content = result['choices'][0]['message']['content']\n",
    "            parsed_result = json.loads(content)\n",
    "            \n",
    "            return parsed_result[\"sentiment\"], float(parsed_result[\"confidence\"])\n",
    "\n",
    "    except Exception as e:\n",
    "        raise HTTPException(status_code=500, detail=f\"Llama model error: {str(e)}\")\n",
    "\n",
    "@app.post(\"/analyze/\", response_model=SentimentResponse)\n",
    "async def analyze_sentiment(request: SentimentRequest):\n",
    "    \"\"\"\n",
    "    Analyze the sentiment of input text using either custom or Llama model\n",
    "    \"\"\"\n",
    "    try:\n",
    "        if request.model == \"custom\":\n",
    "            sentiment, confidence = analyze_with_custom_model(request.text)\n",
    "        else:  # llama\n",
    "            sentiment, confidence = await analyze_with_llama(request.text)\n",
    "\n",
    "        return SentimentResponse(\n",
    "            sentiment=sentiment,\n",
    "            confidence=confidence\n",
    "        )\n",
    "\n",
    "    except Exception as e:\n",
    "        raise HTTPException(status_code=500, detail=str(e))\n",
    "\n",
    "def run_server():\n",
    "    \"\"\"Function to run the server\"\"\"\n",
    "    config = uvicorn.Config(app, host=\"0.0.0.0\", port=8000, log_level=\"info\")\n",
    "    server = uvicorn.Server(config)\n",
    "    server.run()\n",
    "\n",
    "# For Jupyter Notebook\n",
    "def start_server():\n",
    "    \"\"\"Function to start the server in a notebook\"\"\"\n",
    "    import asyncio\n",
    "    config = uvicorn.Config(app, host=\"0.0.0.0\", port=8000, log_level=\"info\")\n",
    "    server = uvicorn.Server(config)\n",
    "    asyncio.create_task(server.serve())\n",
    "    return \"Server started\"\n",
    "\n",
    "if __name__ == \"__main__\":\n",
    "    run_server()"
   ]
  },
  {
   "cell_type": "markdown",
   "metadata": {},
   "source": [
    "Step 7: Load Models"
   ]
  },
  {
   "cell_type": "code",
   "execution_count": 30,
   "metadata": {},
   "outputs": [
    {
     "data": {
      "application/vnd.jupyter.widget-view+json": {
       "model_id": "570d77cc297041f28e1087bdad16622f",
       "version_major": 2,
       "version_minor": 0
      },
      "text/plain": [
       "tokenizer_config.json:   0%|          | 0.00/1.28k [00:00<?, ?B/s]"
      ]
     },
     "metadata": {},
     "output_type": "display_data"
    },
    {
     "data": {
      "application/vnd.jupyter.widget-view+json": {
       "model_id": "53da275e42564ccdafa14183c4fa82ac",
       "version_major": 2,
       "version_minor": 0
      },
      "text/plain": [
       "vocab.txt:   0%|          | 0.00/232k [00:00<?, ?B/s]"
      ]
     },
     "metadata": {},
     "output_type": "display_data"
    },
    {
     "data": {
      "application/vnd.jupyter.widget-view+json": {
       "model_id": "b5c9f4e254d34f3cb2904b6956d955ee",
       "version_major": 2,
       "version_minor": 0
      },
      "text/plain": [
       "tokenizer.json:   0%|          | 0.00/712k [00:00<?, ?B/s]"
      ]
     },
     "metadata": {},
     "output_type": "display_data"
    },
    {
     "data": {
      "application/vnd.jupyter.widget-view+json": {
       "model_id": "cce96cc528b04f5f840cb8162f0bf6a4",
       "version_major": 2,
       "version_minor": 0
      },
      "text/plain": [
       "special_tokens_map.json:   0%|          | 0.00/132 [00:00<?, ?B/s]"
      ]
     },
     "metadata": {},
     "output_type": "display_data"
    },
    {
     "data": {
      "application/vnd.jupyter.widget-view+json": {
       "model_id": "3e33b1a2cec74a0e8a1b0552b35f0b53",
       "version_major": 2,
       "version_minor": 0
      },
      "text/plain": [
       "config.json:   0%|          | 0.00/640 [00:00<?, ?B/s]"
      ]
     },
     "metadata": {},
     "output_type": "display_data"
    },
    {
     "data": {
      "application/vnd.jupyter.widget-view+json": {
       "model_id": "70e1e3a204e1424c9798365b2accb2ca",
       "version_major": 2,
       "version_minor": 0
      },
      "text/plain": [
       "model.safetensors:   0%|          | 0.00/268M [00:00<?, ?B/s]"
      ]
     },
     "metadata": {},
     "output_type": "display_data"
    },
    {
     "name": "stdout",
     "output_type": "stream",
     "text": [
      "Successfully loaded custom model from Hugging Face\n",
      "Successfully initialized Groq client\n",
      "Successfully accessed Llama 3 model\n"
     ]
    }
   ],
   "source": [
    "from transformers import AutoModelForSequenceClassification, AutoTokenizer\n",
    "from groq import Groq\n",
    "import os\n",
    "from dotenv import load_dotenv\n",
    "\n",
    "# Load environment variables\n",
    "load_dotenv()\n",
    "\n",
    "def load_custom_model(model_id):\n",
    "    \"\"\"\n",
    "    Load the fine-tuned model from Hugging Face\n",
    "    \n",
    "    Args:\n",
    "        model_id (str): Hugging Face model ID (e.g., 'your-username/your-model-name')\n",
    "    \n",
    "    Returns:\n",
    "        tuple: (model, tokenizer) if successful, (None, None) if failed\n",
    "    \"\"\"\n",
    "    try:\n",
    "        # Load tokenizer and model from Hugging Face\n",
    "        tokenizer = AutoTokenizer.from_pretrained(model_id)\n",
    "        model = AutoModelForSequenceClassification.from_pretrained(model_id)\n",
    "        \n",
    "        # Set model to evaluation mode\n",
    "        model.eval()\n",
    "        \n",
    "        print(\"Successfully loaded custom model from Hugging Face\")\n",
    "        return model, tokenizer\n",
    "        \n",
    "    except Exception as e:\n",
    "        print(f\"Error loading custom model: {str(e)}\")\n",
    "        return None, None\n",
    "\n",
    "def initialize_groq_client():\n",
    "    \"\"\"\n",
    "    Initialize Groq client for accessing Llama 3\n",
    "    \n",
    "    Returns:\n",
    "        Groq: Initialized Groq client if successful, None if failed\n",
    "    \"\"\"\n",
    "    try:\n",
    "        client = Groq(\n",
    "            api_key=os.environ.get(\"GROQ_API_KEY\"),\n",
    "        )\n",
    "        print(\"Successfully initialized Groq client\")\n",
    "        return client\n",
    "        \n",
    "    except Exception as e:\n",
    "        print(f\"Error initializing Groq client: {str(e)}\")\n",
    "        return None\n",
    "\n",
    "if __name__ == \"__main__\":\n",
    "    # Load custom model from Hugging Face\n",
    "    model_id = \"Etwo02/imdb-sentiment-classifier\"  # Replace with your model ID\n",
    "    model, tokenizer = load_custom_model(model_id)\n",
    "    \n",
    "    # Initialize Groq client for Llama 3\n",
    "    groq_client = initialize_groq_client()\n",
    "    \n",
    "    # Test Llama 3 access if client initialization was successful\n",
    "    if groq_client:\n",
    "        try:\n",
    "            response = groq_client.chat.completions.create(\n",
    "                messages=[\n",
    "                    {\n",
    "                        \"role\": \"user\",\n",
    "                        \"content\": \"Test message\"\n",
    "                    }\n",
    "                ],\n",
    "                model=\"llama-3.3-70b-versatile\",\n",
    "            )\n",
    "            print(\"Successfully accessed Llama 3 model\")\n",
    "            \n",
    "        except Exception as e:\n",
    "            print(f\"Error accessing Llama 3 model: {str(e)}\")"
   ]
  },
  {
   "cell_type": "markdown",
   "metadata": {},
   "source": [
    "Step 8: Test the API Locally"
   ]
  },
  {
   "cell_type": "markdown",
   "metadata": {},
   "source": [
    "![alt text](postman.png \"Postman Test\")"
   ]
  },
  {
   "attachments": {
    "image.png": {
     "image/png": "[encoded data removed]"
    }
   },
   "cell_type": "markdown",
   "metadata": {},
   "source": [
    "\n",
    "Curl:![image.png](attachment:image.png)\n"
   ]
  },
  {
   "cell_type": "markdown",
   "metadata": {},
   "source": [
    "Python requests:\n"
   ]
  },
  {
   "cell_type": "markdown",
   "metadata": {},
   "source": [
    "\n",
    "![alt text](requests.png \"Python requests\")\n"
   ]
  },
  {
   "cell_type": "markdown",
   "metadata": {},
   "source": [
    "Step 9: Define the Llama 3 Prompt\n",
    "\n",
    "\n",
    "You are a precise sentiment analysis expert. Analyze the sentiment of the following text and provide your analysis in this specific format:\n",
    "{\n",
    "    \"sentiment\": \"<positive/negative>\",\n",
    "    \"confidence\": <0.0-1.0>\n",
    "}\n",
    "\n",
    "Text to analyze: \"<input_text>\"\n",
    "\n",
    "Base your analysis on:\n",
    "- Overall emotional tone\n",
    "- Use of descriptive words\n",
    "- Context and implications\n",
    "- Intensity of expression\n",
    "\n",
    "Ensure your response is ONLY the JSON object with no additional text."
   ]
  },
  {
   "cell_type": "markdown",
   "metadata": {},
   "source": [
    "Step 10: Test with Both Models (already tested in step 8)"
   ]
  },
  {
   "cell_type": "markdown",
   "metadata": {},
   "source": [
    "\n",
    "![alt text](requests.png \"Python requests\")\n"
   ]
  },
  {
   "cell_type": "markdown",
   "metadata": {},
   "source": [
    "Works as expected, sentiment and confidence are returned.\n"
   ]
  },
  {
   "cell_type": "markdown",
   "metadata": {},
   "source": [
    "Step 11: React UI Design"
   ]
  },
  {
   "cell_type": "markdown",
   "metadata": {},
   "source": [
    "\n",
    "![alt text](uidesign.png \"UI design\")\n"
   ]
  },
  {
   "cell_type": "code",
   "execution_count": null,
   "metadata": {
    "vscode": {
     "languageId": "javascript"
    }
   },
   "outputs": [],
   "source": [
    "// SentimentAnalyzer.jsx (only the analysis component here - rest in git repo)\n",
    "import { useState } from 'react';\n",
    "import './SentimentAnalyzer.css';\n",
    "\n",
    "function SentimentAnalyzer() {\n",
    "  const [text, setText] = useState('');\n",
    "  const [model, setModel] = useState('custom');\n",
    "  const [result, setResult] = useState(null);\n",
    "  const [isLoading, setIsLoading] = useState(false);\n",
    "  const [error, setError] = useState(null);\n",
    "\n",
    "  const analyzeSentiment = async () => {\n",
    "    if (!text.trim()) return;\n",
    "\n",
    "    setIsLoading(true);\n",
    "    setError(null);\n",
    "    try {\n",
    "      const response = await fetch('http://localhost:8000/analyze/', {\n",
    "        method: 'POST',\n",
    "        headers: {\n",
    "          'Content-Type': 'application/json',\n",
    "          'Accept': 'application/json',\n",
    "        },\n",
    "        body: JSON.stringify({\n",
    "          text,\n",
    "          model,\n",
    "        }),\n",
    "      });\n",
    "\n",
    "      if (!response.ok) {\n",
    "        const errorData = await response.json();\n",
    "        throw new Error(errorData.detail || 'Failed to analyze sentiment');\n",
    "      }\n",
    "\n",
    "      const data = await response.json();\n",
    "      setResult(data);\n",
    "    } catch (error) {\n",
    "      console.error('Error:', error);\n",
    "      setError(error.message || 'Failed to analyze sentiment. Please try again.');\n",
    "      setResult(null);\n",
    "    } finally {\n",
    "      setIsLoading(false);\n",
    "    }\n",
    "  };\n",
    "\n",
    "  const clearResults = () => {\n",
    "    setResult(null);\n",
    "    setText('');\n",
    "    setError(null);\n",
    "  };\n",
    "\n",
    "  return (\n",
    "    <div className=\"analyzer-container\">\n",
    "      <div className=\"analyzer-card\">\n",
    "        <h2 className=\"analyzer-title\">Sentiment Analysis</h2>\n",
    "        \n",
    "        <div className=\"input-group\">\n",
    "          <label htmlFor=\"text-input\">Enter your text:</label>\n",
    "          <textarea\n",
    "            id=\"text-input\"\n",
    "            value={text}\n",
    "            onChange={(e) => setText(e.target.value)}\n",
    "            placeholder=\"Type or paste your text here...\"\n",
    "          />\n",
    "        </div>\n",
    "\n",
    "        <div className=\"input-group\">\n",
    "          <label htmlFor=\"model-select\">Select Model:</label>\n",
    "          <select\n",
    "            id=\"model-select\"\n",
    "            value={model}\n",
    "            onChange={(e) => setModel(e.target.value)}\n",
    "          >\n",
    "            <option value=\"custom\">Custom Model</option>\n",
    "            <option value=\"llama\">Llama 3</option>\n",
    "          </select>\n",
    "        </div>\n",
    "\n",
    "        <button\n",
    "          onClick={analyzeSentiment}\n",
    "          disabled={!text.trim() || isLoading}\n",
    "          className=\"analyze-button\"\n",
    "        >\n",
    "          {isLoading ? 'Analyzing...' : 'Analyze Sentiment'}\n",
    "        </button>\n",
    "\n",
    "        {error && (\n",
    "          <div className=\"error-message\">\n",
    "            {error}\n",
    "          </div>\n",
    "        )}\n",
    "\n",
    "        {result && !error && (\n",
    "          <div className=\"results-container\">\n",
    "            <h3>Results</h3>\n",
    "            <div className=\"result-item\">\n",
    "              <span>Sentiment:</span>\n",
    "              <span className={`sentiment-${result.sentiment}`}>\n",
    "                {result.sentiment.charAt(0).toUpperCase() + result.sentiment.slice(1)}\n",
    "              </span>\n",
    "            </div>\n",
    "            <div className=\"result-item\">\n",
    "              <span>Confidence:</span>\n",
    "              <span className=\"confidence\">\n",
    "                {(result.confidence * 100).toFixed(1)}%\n",
    "              </span>\n",
    "            </div>\n",
    "            <button\n",
    "              onClick={clearResults}\n",
    "              className=\"clear-button\"\n",
    "            >\n",
    "              Clear Analysis\n",
    "            </button>\n",
    "          </div>\n",
    "        )}\n",
    "      </div>\n",
    "    </div>\n",
    "  );\n",
    "}\n",
    "\n",
    "export default SentimentAnalyzer;"
   ]
  },
  {
   "cell_type": "markdown",
   "metadata": {},
   "source": []
  },
  {
   "cell_type": "markdown",
   "metadata": {},
   "source": [
    "Step 13: Record a YouTube Demo Video"
   ]
  },
  {
   "cell_type": "markdown",
   "metadata": {},
   "source": [
    "https://www.youtube.com/watch?v=9K1vyvQ0gU0"
   ]
  }
 ],
 "metadata": {
  "kernelspec": {
   "display_name": "yes",
   "language": "python",
   "name": "python3"
  },
  "language_info": {
   "codemirror_mode": {
    "name": "ipython",
    "version": 3
   },
   "file_extension": ".py",
   "mimetype": "text/x-python",
   "name": "python",
   "nbconvert_exporter": "python",
   "pygments_lexer": "ipython3",
   "version": "3.12.4"
  }
 },
 "nbformat": 4,
 "nbformat_minor": 2
}
